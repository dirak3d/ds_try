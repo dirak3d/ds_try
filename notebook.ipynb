{
 "cells": [
  {
   "cell_type": "markdown",
   "metadata": {},
   "source": [
    "# 🚀 Ejemplo MyBinder\n",
    "\n",
    "Este es un notebook de ejemplo para probar en [MyBinder](https://mybinder.org).\n",
    "\n",
    "## Objetivo\n",
    "- Mostrar cómo se ejecuta código Python en la nube.\n",
    "- Graficar una función sencilla con `numpy` y `matplotlib`."
   ]
  },
  {
   "cell_type": "code",
   "execution_count": null,
   "metadata": {},
   "outputs": [],
   "source": [
    "import numpy as np\n",
    "import matplotlib.pyplot as plt\n",
    "\n",
    "# Datos\n",
    "x = np.linspace(0, 2*np.pi, 100)\n",
    "y = np.sin(x)\n",
    "\n",
    "# Gráfica\n",
    "plt.plot(x, y, label='sin(x)')\n",
    "plt.title('Ejemplo en MyBinder')\n",
    "plt.xlabel('x')\n",
    "plt.ylabel('sin(x)')\n",
    "plt.legend()\n",
    "plt.show()"
   ]
  },
  {
   "cell_type": "markdown",
   "metadata": {},
   "source": [
    "👉 Si ves esta gráfica renderizada, tu notebook se está ejecutando correctamente en MyBinder. 🎉"
   ]
  }
 ],
 "metadata": {
  "kernelspec": {
   "display_name": "Python 3",
   "language": "python",
   "name": "python3"
  },
  "language_info": {
   "name": "python",
   "version": "3.10"
  }
 },
 "nbformat": 4,
 "nbformat_minor": 5
}
