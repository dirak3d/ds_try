{
  "nbformat": 4,
  "nbformat_minor": 0,
  "metadata": {
    "colab": {
      "provenance": []
    },
    "kernelspec": {
      "name": "python3",
      "display_name": "Python 3"
    },
    "language_info": {
      "name": "python"
    }
  },
  "cells": [
    {
      "cell_type": "code",
      "execution_count": null,
      "metadata": {
        "id": "NtsXclv14QNf"
      },
      "outputs": [],
      "source": []
    },
    {
      "cell_type": "markdown",
      "source": [
        "### Tuple\n",
        "\n",
        "Un dato tipo **tuple** es una secuencia de objetos en Python *inmutable*.\n",
        "\n",
        "La forma más fácil de crearse es:"
      ],
      "metadata": {
        "id": "K--qjHaE4R7A"
      }
    },
    {
      "cell_type": "code",
      "source": [
        "tup = (4,5,6)\n",
        "tup"
      ],
      "metadata": {
        "colab": {
          "base_uri": "https://localhost:8080/"
        },
        "id": "FMDWS5VF40pQ",
        "outputId": "c5aad7b0-46f7-4804-d402-2fb8aad7c6ec"
      },
      "execution_count": 1,
      "outputs": [
        {
          "output_type": "execute_result",
          "data": {
            "text/plain": [
              "(4, 5, 6)"
            ]
          },
          "metadata": {},
          "execution_count": 1
        }
      ]
    },
    {
      "cell_type": "code",
      "source": [],
      "metadata": {
        "id": "cV6Y7DUX44vL"
      },
      "execution_count": null,
      "outputs": []
    },
    {
      "cell_type": "markdown",
      "source": [
        "## Comando Tuple\n",
        "\n",
        "Podemos definir una secuencia de Python, y luego convertirla a tupla. La secuencia de Python es mutable, mientras que una vez que se convierte a tupla ya no lo será.\n",
        "\n",
        "Veamos un ejemplo:"
      ],
      "metadata": {
        "id": "hflLYjIy5AaC"
      }
    },
    {
      "cell_type": "code",
      "source": [
        "seq = [2,4,6]\n",
        "tup = tuple(seq)\n",
        "tup"
      ],
      "metadata": {
        "colab": {
          "base_uri": "https://localhost:8080/"
        },
        "id": "mo5Gj2Tc5GQw",
        "outputId": "0da1aa8a-3173-41d5-bf06-69076f50f708"
      },
      "execution_count": 2,
      "outputs": [
        {
          "output_type": "execute_result",
          "data": {
            "text/plain": [
              "(2, 4, 6)"
            ]
          },
          "metadata": {},
          "execution_count": 2
        }
      ]
    },
    {
      "cell_type": "code",
      "source": [
        "stringing = 'string'\n",
        "tup_string = tuple(stringing)\n",
        "tup_string"
      ],
      "metadata": {
        "colab": {
          "base_uri": "https://localhost:8080/"
        },
        "id": "nrn3lXN_5cXC",
        "outputId": "7be12f1f-e066-441b-cc2f-db90bbcb3923"
      },
      "execution_count": 3,
      "outputs": [
        {
          "output_type": "execute_result",
          "data": {
            "text/plain": [
              "('s', 't', 'r', 'i', 'n', 'g')"
            ]
          },
          "metadata": {},
          "execution_count": 3
        }
      ]
    },
    {
      "cell_type": "markdown",
      "source": [
        "\n",
        "Ahora vamos a ver una propiedad de inmutabilidad de una tupla sobre el objeto que definimos arriba como **tup**"
      ],
      "metadata": {
        "id": "3oQnDNST5986"
      }
    },
    {
      "cell_type": "code",
      "source": [
        "seq[1] = 'a'\n",
        "seq"
      ],
      "metadata": {
        "colab": {
          "base_uri": "https://localhost:8080/"
        },
        "id": "XUJDC85M55W_",
        "outputId": "c8ee556b-21b2-4182-f78b-ece7d4d66b21"
      },
      "execution_count": 7,
      "outputs": [
        {
          "output_type": "execute_result",
          "data": {
            "text/plain": [
              "[2, 'a', 6]"
            ]
          },
          "metadata": {},
          "execution_count": 7
        }
      ]
    },
    {
      "cell_type": "markdown",
      "source": [
        "Vemos como **seq** se puede modificar, y ahora veremos que al convertir a *tuple* esta cualidad desaparece de el objeto tipo **tuple**."
      ],
      "metadata": {
        "id": "j3N_0lTg8cjl"
      }
    },
    {
      "cell_type": "code",
      "source": [
        "tup = tuple(seq)\n",
        "tup"
      ],
      "metadata": {
        "colab": {
          "base_uri": "https://localhost:8080/"
        },
        "id": "ZQjmllBc8cAC",
        "outputId": "13039523-88c6-477c-aba8-c9aebd0782dc"
      },
      "execution_count": 9,
      "outputs": [
        {
          "output_type": "execute_result",
          "data": {
            "text/plain": [
              "(2, 'a', 6)"
            ]
          },
          "metadata": {},
          "execution_count": 9
        }
      ]
    },
    {
      "cell_type": "code",
      "source": [
        "tup[1] = 'b'"
      ],
      "metadata": {
        "colab": {
          "base_uri": "https://localhost:8080/",
          "height": 141
        },
        "id": "pVD9XqTn7Yfw",
        "outputId": "bd7b4c66-96a8-4c91-b73c-6d23232c5709"
      },
      "execution_count": 10,
      "outputs": [
        {
          "output_type": "error",
          "ename": "TypeError",
          "evalue": "'tuple' object does not support item assignment",
          "traceback": [
            "\u001b[0;31m---------------------------------------------------------------------------\u001b[0m",
            "\u001b[0;31mTypeError\u001b[0m                                 Traceback (most recent call last)",
            "\u001b[0;32m/tmp/ipython-input-2939578565.py\u001b[0m in \u001b[0;36m<cell line: 0>\u001b[0;34m()\u001b[0m\n\u001b[0;32m----> 1\u001b[0;31m \u001b[0mtup\u001b[0m\u001b[0;34m[\u001b[0m\u001b[0;36m1\u001b[0m\u001b[0;34m]\u001b[0m \u001b[0;34m=\u001b[0m \u001b[0;34m'b'\u001b[0m\u001b[0;34m\u001b[0m\u001b[0;34m\u001b[0m\u001b[0m\n\u001b[0m",
            "\u001b[0;31mTypeError\u001b[0m: 'tuple' object does not support item assignment"
          ]
        }
      ]
    },
    {
      "cell_type": "markdown",
      "source": [
        "## Nested Tuples (Tuplas Anidadas)\n",
        "\n",
        "Como su nombre lo indica, los **nested tuples** son tuplas de python, cuyas elementos pueden ser otras tuplas.\n",
        "\n",
        "A continuación un ejemplo:"
      ],
      "metadata": {
        "id": "wP6mR0mFD8Tt"
      }
    },
    {
      "cell_type": "code",
      "source": [
        "nested_tup = (4,5,6),(7,8)\n",
        "nested_tup"
      ],
      "metadata": {
        "colab": {
          "base_uri": "https://localhost:8080/"
        },
        "id": "qKzHsAfkESiZ",
        "outputId": "3aa83e69-3a71-4bfc-d82f-9fa213e92661"
      },
      "execution_count": 11,
      "outputs": [
        {
          "output_type": "execute_result",
          "data": {
            "text/plain": [
              "((4, 5, 6), (7, 8))"
            ]
          },
          "metadata": {},
          "execution_count": 11
        }
      ]
    },
    {
      "cell_type": "markdown",
      "source": [
        "Veamos como podemos acceder con el primer indice `i` del tuple `tup[i]`. Y a los elementos de este **`tup[i]`** podemos acceder con el segundo índice `j` del `tup[i][j]`."
      ],
      "metadata": {
        "id": "lSlH51dsFFVh"
      }
    },
    {
      "cell_type": "code",
      "source": [
        "nested_tup[0]"
      ],
      "metadata": {
        "colab": {
          "base_uri": "https://localhost:8080/"
        },
        "id": "v0XsQpg8Ea9_",
        "outputId": "33dd28f4-9118-4f7b-faea-ce321c4a0ee0"
      },
      "execution_count": 12,
      "outputs": [
        {
          "output_type": "execute_result",
          "data": {
            "text/plain": [
              "(4, 5, 6)"
            ]
          },
          "metadata": {},
          "execution_count": 12
        }
      ]
    },
    {
      "cell_type": "code",
      "source": [
        "nested_tup[1]"
      ],
      "metadata": {
        "colab": {
          "base_uri": "https://localhost:8080/"
        },
        "id": "babco-g_EeOp",
        "outputId": "11598be5-141f-42b5-80a3-6be124c6d65b"
      },
      "execution_count": 13,
      "outputs": [
        {
          "output_type": "execute_result",
          "data": {
            "text/plain": [
              "(7, 8)"
            ]
          },
          "metadata": {},
          "execution_count": 13
        }
      ]
    },
    {
      "cell_type": "code",
      "source": [
        "nested_tup[-1]"
      ],
      "metadata": {
        "colab": {
          "base_uri": "https://localhost:8080/"
        },
        "id": "--hFmcC0Efn4",
        "outputId": "abb311f1-2df0-4e02-a056-b762aca9c2ea"
      },
      "execution_count": 14,
      "outputs": [
        {
          "output_type": "execute_result",
          "data": {
            "text/plain": [
              "(7, 8)"
            ]
          },
          "metadata": {},
          "execution_count": 14
        }
      ]
    },
    {
      "cell_type": "code",
      "source": [
        "nested_tup[0][1]"
      ],
      "metadata": {
        "colab": {
          "base_uri": "https://localhost:8080/"
        },
        "id": "iJVeZbRJEh8D",
        "outputId": "d28450cb-adcb-41cb-df29-4665cd879ad9"
      },
      "execution_count": 17,
      "outputs": [
        {
          "output_type": "execute_result",
          "data": {
            "text/plain": [
              "5"
            ]
          },
          "metadata": {},
          "execution_count": 17
        }
      ]
    },
    {
      "cell_type": "markdown",
      "source": [
        "Podemos acceder al elemento `nested_tup[0][1]`, el cual vemos que es igual a `5`. Al tratar de cambiar su valor con una asignación simple obtenemos un error."
      ],
      "metadata": {
        "id": "3yh18Ni8GvMA"
      }
    },
    {
      "cell_type": "code",
      "source": [
        "x = \"hola\"\n",
        "print(id(x))     # ID de objeto\n",
        "x = x + \" mundo\"\n",
        "print(id(x))     # ⚠️ Cambió, se creó un objeto nuevo\n"
      ],
      "metadata": {
        "colab": {
          "base_uri": "https://localhost:8080/"
        },
        "id": "MvQLnHE4E-KH",
        "outputId": "2b46db34-fa7c-4cae-fb32-844d593bd31a"
      },
      "execution_count": 18,
      "outputs": [
        {
          "output_type": "stream",
          "name": "stdout",
          "text": [
            "136466023352912\n",
            "136466023915632\n"
          ]
        }
      ]
    },
    {
      "cell_type": "markdown",
      "source": [
        "# Objetos Mutables e Inmutables en Python\n",
        "\n",
        "En Python, la diferencia clave es:\n",
        "\n",
        "- **Mutable**: el objeto se puede modificar en memoria.  \n",
        "- **Inmutable**: cualquier “cambio” crea un objeto nuevo.\n",
        "\n",
        "---\n",
        "\n",
        "## &#128313; Objetos Inmutables\n",
        "Estos **no se pueden modificar** después de crearlos:\n",
        "\n",
        "- `int` → enteros  \n",
        "- `float` → números decimales  \n",
        "- `bool` → `True` / `False`  \n",
        "- `str` → cadenas de texto  \n",
        "- `tuple` → tuplas  \n",
        "- `frozenset` → conjuntos inmutables  \n",
        "- `bytes` → secuencia de bytes fija  \n",
        "\n",
        "Ejemplo:\n",
        "```python\n",
        "x = \"hola\"\n",
        "print(id(x))        # ID en memoria\n",
        "x = x + \" mundo\"    # se crea un nuevo objeto\n",
        "print(id(x))        # diferente ID\n",
        "```\n",
        "\n",
        "# &#128313; Objetos Mutables\n",
        "\n",
        "Estos si se pueden modificar en memoria\n",
        "\n",
        "- `list` &rarr;  listas\n",
        "- `dict` &rarr; diccionarios\n",
        "- `set`  &rarr; conjuntos\n",
        "- `bytearray` &rarr; secuencias de bytes modificables\n",
        "- Objetos definidos por el usuario (clases e instancias)\n",
        "- `array.array` (del módulo `array`)\n",
        "\n",
        "Ejemplo:\n",
        "\n",
        "```python\n",
        "y = [1,2,3]\n",
        "print(id(y)) # ID en memoria\n",
        "y.append(4)  # se modifica en el mismo lugar\n",
        "print(id(y)) # mismo ID\n",
        "```\n",
        "\n"
      ],
      "metadata": {
        "id": "QOrkn7CZP478"
      }
    },
    {
      "cell_type": "markdown",
      "source": [
        "## Concatenación de tuples\n",
        "\n",
        "Se pueden concatenar tuples con el operador suma: `+`.\n",
        "\n",
        "```python\n",
        "In[] : (4,None,'foo')+(6,0)+('bar',)\n",
        "Out[]: (4,None,'foo',6,0,'bar')\n",
        "```\n",
        "\n",
        "Cuando requerimos hacer una figura repetitiva con tuples también podemos usar el operador de multiplición : `*`.\n",
        "\n",
        "\n",
        "```python\n",
        "In[] : ('a','b')*2\n",
        "Out[]: ('a','b','a','b')\n",
        "```\n"
      ],
      "metadata": {
        "id": "KHAw1IAKg7mx"
      }
    },
    {
      "cell_type": "code",
      "source": [
        "(4,None,'foo')+(6,0)+('bar',)"
      ],
      "metadata": {
        "colab": {
          "base_uri": "https://localhost:8080/"
        },
        "id": "WEcQgzWliPR0",
        "outputId": "73b00a15-25c0-497c-9670-dd4c29a39dc6"
      },
      "execution_count": 23,
      "outputs": [
        {
          "output_type": "execute_result",
          "data": {
            "text/plain": [
              "(4, None, 'foo', 6, 0, 'bar')"
            ]
          },
          "metadata": {},
          "execution_count": 23
        }
      ]
    },
    {
      "cell_type": "code",
      "source": [
        "('a','b')*2"
      ],
      "metadata": {
        "colab": {
          "base_uri": "https://localhost:8080/"
        },
        "id": "gw0_3f0TiRnr",
        "outputId": "76e559d2-59f9-4807-aee5-061ed4f9e56b"
      },
      "execution_count": 24,
      "outputs": [
        {
          "output_type": "execute_result",
          "data": {
            "text/plain": [
              "('a', 'b', 'a', 'b')"
            ]
          },
          "metadata": {},
          "execution_count": 24
        }
      ]
    },
    {
      "cell_type": "markdown",
      "source": [
        "## Desempaquetado de tuples\n",
        "\n",
        "En Python, cuando escribes varias variables separadas por comas en el lado izquierdo de un signo `=`, Python reparte automáticamente *(‘desempaqueta’)* los valores del  tuple (o de cualquier iterable) en esas variables.\n",
        "\n",
        "```python\n",
        "In[] : tup = (1,2,3)\n",
        "In[] : a, b, c = tup\n",
        "In[] : print(a)\n",
        "Out[]: a=1        #Así de forma sucesiva con b y c\n",
        "```\n",
        "\n",
        "Esto funciona también con tuples anidadas (nested tuples).\n",
        "\n",
        "\n",
        "```python\n",
        "In[] : tup = 4,5,(6,7)\n",
        "In[] : a,b,(c,d) = tup\n",
        "In[] : d\n",
        "Out[]: 7\n",
        "```\n"
      ],
      "metadata": {
        "id": "9U4jzth1i1sc"
      }
    },
    {
      "cell_type": "code",
      "source": [
        "tup = (1,2,3)\n",
        "a, b, c = tup\n",
        "print(a)"
      ],
      "metadata": {
        "colab": {
          "base_uri": "https://localhost:8080/"
        },
        "id": "MMAgdG8mmo15",
        "outputId": "f5337396-4fa7-451b-9f33-f28c120ec7eb"
      },
      "execution_count": 25,
      "outputs": [
        {
          "output_type": "stream",
          "name": "stdout",
          "text": [
            "1\n"
          ]
        }
      ]
    },
    {
      "cell_type": "code",
      "source": [
        "tup = 4,5,(6,7)\n",
        "a,b,c = tup\n",
        "c            #note que modifique el ejmplo anterior para mostrar que Python\n",
        "             # toma en c la estructura de tupla en lugar de entero."
      ],
      "metadata": {
        "colab": {
          "base_uri": "https://localhost:8080/"
        },
        "id": "61DNN9v2mrBQ",
        "outputId": "34af1884-dff7-4a2a-b6e2-4f14046b344a"
      },
      "execution_count": 26,
      "outputs": [
        {
          "output_type": "execute_result",
          "data": {
            "text/plain": [
              "(6, 7)"
            ]
          },
          "metadata": {},
          "execution_count": 26
        }
      ]
    },
    {
      "cell_type": "markdown",
      "source": [
        "## Intercambio valores entre variables **(Swap)**\n",
        "\n",
        "Sabemos que para intercambiar variables usamos un código como el siguiente\n",
        "\n",
        "```python\n",
        "tmp = a\n",
        "a = b\n",
        "b= tmp\n",
        "```\n",
        "Aquí `tmp` toma el valor de `a`, luego `b` es asignado a `a` y al final `b` toma el valor de `tmp`.\n",
        "\n",
        "\n"
      ],
      "metadata": {
        "id": "F2uBHv90nXNY"
      }
    }
  ]
}